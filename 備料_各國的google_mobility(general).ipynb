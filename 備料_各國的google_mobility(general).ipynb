{
  "nbformat": 4,
  "nbformat_minor": 0,
  "metadata": {
    "colab": {
      "name": "備料-各國的google mobility(general).ipynb",
      "provenance": [],
      "collapsed_sections": [],
      "mount_file_id": "1XxmaDrNcsb_A9HODJiUvh4aK2VvxlTGJ",
      "authorship_tag": "ABX9TyPmTxQnytYWrGBJWa+2ooRN",
      "include_colab_link": true
    },
    "kernelspec": {
      "name": "python3",
      "display_name": "Python 3"
    },
    "language_info": {
      "name": "python"
    }
  },
  "cells": [
    {
      "cell_type": "markdown",
      "metadata": {
        "id": "view-in-github",
        "colab_type": "text"
      },
      "source": [
        "<a href=\"https://colab.research.google.com/github/avatar220928/Colab-Github/blob/material/%E5%82%99%E6%96%99_%E5%90%84%E5%9C%8B%E7%9A%84google_mobility(general).ipynb\" target=\"_parent\"><img src=\"https://colab.research.google.com/assets/colab-badge.svg\" alt=\"Open In Colab\"/></a>"
      ]
    },
    {
      "cell_type": "markdown",
      "source": [
        "# **引入需要的套件**"
      ],
      "metadata": {
        "id": "diJcLkuE6YAa"
      }
    },
    {
      "cell_type": "code",
      "execution_count": null,
      "metadata": {
        "id": "i6v_hWCvCnw5"
      },
      "outputs": [],
      "source": [
        "import pandas as pd\n",
        "import numpy as np\n",
        "from datetime import datetime\n",
        "import matplotlib.dates as mdates\n",
        "import matplotlib.pyplot as plt"
      ]
    },
    {
      "cell_type": "markdown",
      "metadata": {
        "id": "I4rOSYb5j3Oc"
      },
      "source": [
        "# **從google drive引入functions.py**"
      ]
    },
    {
      "cell_type": "code",
      "source": [
        "from google.colab import drive\n",
        "# drive.mount('/content/gdrive')\n",
        "!cp /content/drive/MyDrive/import/functions_4.py /content"
      ],
      "metadata": {
        "id": "C55lI1iedoI6"
      },
      "execution_count": null,
      "outputs": []
    },
    {
      "cell_type": "code",
      "source": [
        "import functions_4\n",
        "print(functions_4.__dir__())\n",
        "functions_4.DownloadTWCompany.__doc__"
      ],
      "metadata": {
        "id": "Alu8ajsQgmch",
        "colab": {
          "base_uri": "https://localhost:8080/",
          "height": 79
        },
        "outputId": "6ddff9a7-6590-48fa-cdd5-e6a946fa808d"
      },
      "execution_count": null,
      "outputs": [
        {
          "output_type": "stream",
          "name": "stdout",
          "text": [
            "['__name__', '__doc__', '__package__', '__loader__', '__spec__', '__file__', '__cached__', '__builtins__', 'DownloadTWCompany', 'deletenan', 'split_list', 'googlesheet']\n"
          ]
        },
        {
          "output_type": "execute_result",
          "data": {
            "text/plain": [
              "'\\n  DownloadTWCompany會從google mobility爬蟲mobility資料過來\\n  '"
            ],
            "application/vnd.google.colaboratory.intrinsic+json": {
              "type": "string"
            }
          },
          "metadata": {},
          "execution_count": 6
        }
      ]
    },
    {
      "cell_type": "code",
      "source": [
        "#從google mobility爬蟲\n",
        "functions_4.DownloadTWCompany()"
      ],
      "metadata": {
        "colab": {
          "base_uri": "https://localhost:8080/"
        },
        "id": "bXAEiysIg_tb",
        "outputId": "a2124afa-ea5f-4427-efe6-399a4f7051c5"
      },
      "execution_count": null,
      "outputs": [
        {
          "output_type": "stream",
          "name": "stdout",
          "text": [
            "開始\n",
            "下載完成!\n",
            "資料解壓縮...\n",
            "解壓縮完成!\n"
          ]
        }
      ]
    },
    {
      "cell_type": "code",
      "source": [
        "sheet_name = ['Europe', 'North America','South America','Asia','Africa','Oceania'] \n",
        "for country in sheet_name:\n",
        "  start_date, end_date, country_name, country_test = functions_4.googlesheet(country)\n",
        "  print(start_date)\n",
        "  print(country_name)"
      ],
      "metadata": {
        "id": "gK4aEfCCvvBx",
        "colab": {
          "base_uri": "https://localhost:8080/"
        },
        "outputId": "96053333-a243-4df4-e938-ae8d7136b77c"
      },
      "execution_count": null,
      "outputs": [
        {
          "output_type": "stream",
          "name": "stdout",
          "text": [
            "https://docs.google.com/spreadsheets/d/1Jxcr8PvzqyEOa3DDT7wh9sBgJDGoDTqqLvDoT1r9R10/edit#gid=337413139\n",
            "[['2020-03-02', '2020-07-03', '2020-12-03', '2021-05-09', '2021-12-25'], ['2020-09-06', '2020-11-25', '2021-02-21', '2021-06-26', '2021-09-27', '2021-12-30', '2022-03-02'], ['2020-03-07', '2020-07-20', '2020-12-28', '2021-03-20', '2021-06-24', '2021-10-27'], ['2020-03-10', '2020-09-22', '2021-03-06', '2021-07-11', '2021-10-11', '2021-12-29'], ['2020-03-01', '2020-09-26', '2020-12-30', '2021-02-17', '2021-07-09', '2021-10-28'], ['2020-04-02', '2020-08-11', '2020-12-14', '2021-07-06', '2021-10-26']]\n",
            "['GB', 'NL', 'ES', 'DE', 'IT', 'FR']\n",
            "https://docs.google.com/spreadsheets/d/1Jxcr8PvzqyEOa3DDT7wh9sBgJDGoDTqqLvDoT1r9R10/edit#gid=337413139\n",
            "[['2020-03-02', '2020-06-14', '2020-10-09', '2021-06-23', '2021-11-30'], ['2020-03-28', '2020-11-23', '2021-05-21', '2021-12-09']]\n",
            "['US', 'MX']\n",
            "https://docs.google.com/spreadsheets/d/1Jxcr8PvzqyEOa3DDT7wh9sBgJDGoDTqqLvDoT1r9R10/edit#gid=337413139\n",
            "[['2020-04-23', '2020-11-14', '2021-12-22'], ['2020-04-10', '2020-11-24', '2021-03-04', '2021-05-19', '2021-09-20', '2022-01-01'], ['2020-05-05', '2020-10-06', '2021-03-07', '2021-10-27'], ['2020-03-29', '2020-07-13', '2021-01-04', '2021-10-08']]\n",
            "['BR', 'CL', 'CO', 'PE']\n",
            "https://docs.google.com/spreadsheets/d/1Jxcr8PvzqyEOa3DDT7wh9sBgJDGoDTqqLvDoT1r9R10/edit#gid=337413139\n",
            "[['2021-05-13', '2021-12-20'], ['2020-03-01', '2020-07-03', '2020-11-03', '2022-02-02'], ['2020-03-01', '2020-08-12', '2020-10-27', '2021-06-20', '2022-01-17'], ['2020-03-24', '2020-07-04', '2020-10-26', '2021-03-12', '2021-07-25', '2022-01-09'], ['2021-07-02', '2021-10-28', '2022-02-07'], ['2020-12-17', '2021-04-03', '2021-06-11', '2022-01-04']]\n",
            "['TW', 'HK', 'KR', 'JP', 'VN', 'TH']\n",
            "https://docs.google.com/spreadsheets/d/1Jxcr8PvzqyEOa3DDT7wh9sBgJDGoDTqqLvDoT1r9R10/edit#gid=337413139\n",
            "[['2020-04-14', '2020-10-17', '2021-04-12', '2021-10-31'], ['2020-03-26', '2020-10-12', '2021-02-13', '2021-08-14', '2022-01-08'], ['2020-06-01', '2021-05-23', '2021-12-07'], ['2020-05-08', '2020-09-23', '2021-01-28', '2021-06-01', '2021-12-02']]\n",
            "['ZA', 'EG', 'MA', 'KE']\n",
            "https://docs.google.com/spreadsheets/d/1Jxcr8PvzqyEOa3DDT7wh9sBgJDGoDTqqLvDoT1r9R10/edit#gid=337413139\n",
            "[['2022-01-20'], ['2021-06-21', '2021-12-01', '2022-02-25']]\n",
            "['NZ', 'AU']\n"
          ]
        }
      ]
    },
    {
      "cell_type": "markdown",
      "source": [
        "# **def: 讀檔、合併、篩選google mobility**"
      ],
      "metadata": {
        "id": "obTY_86KEn1_"
      }
    },
    {
      "cell_type": "code",
      "source": [
        "file_name = ['2020_{}_Region_Mobility_Report.csv', '2021_{}_Region_Mobility_Report.csv','2022_{}_Region_Mobility_Report.csv'] #設定要讀檔的名稱\n",
        "sheet_name = ['Europe', 'North America','South America','Asia','Africa','Oceania'] \n",
        "\n",
        "for country in sheet_name:\n",
        "\n",
        "  #引入含有迴圈參數的google sheet\n",
        "  start_date, end_date, country_name, country_test = functions_4.googlesheet(country)\n",
        "  print(start_date)\n",
        "  print(country_name)\n",
        "\n",
        "  for i_1 in range(len(country_name)):\n",
        "    new_country_mobility = pd.DataFrame()\n",
        "    for i_2 in range(3):\n",
        "      country_mobility = pd.read_csv(file_name[i_2].format(country_name[i_1]))\n",
        "      new_country_mobility = new_country_mobility.append(country_mobility)\n",
        "      # print(type(new_country_mobility))\n",
        "      \n",
        "      country_mobility_all_2 = new_country_mobility[new_country_mobility.sub_region_1.isnull()]             #只挑出sub_region_1為空的\n",
        "      country_mobility_all_3 = country_mobility_all_2[country_mobility_all_2.metro_area.isnull()]            #只挑出metro_area為空的\n",
        "      country_mobility_all_3.set_index(pd.to_datetime(country_mobility_all_3['date'],format='%Y-%m-%d'),inplace=True)   #將index設定為日期\n",
        "\n",
        "      mobility_extracted = country_mobility_all_3[[ 'retail_and_recreation_percent_change_from_baseline',\\\n",
        "                              'grocery_and_pharmacy_percent_change_from_baseline',\\\n",
        "                              'parks_percent_change_from_baseline',\\\n",
        "                              'transit_stations_percent_change_from_baseline',\\\n",
        "                              'workplaces_percent_change_from_baseline',\\\n",
        "                              'residential_percent_change_from_baseline']]\n",
        "                              \n",
        "      country_mobility_all_3.to_csv(country_name[i_1]+'_Google_mobility.csv',index=False)"
      ],
      "metadata": {
        "colab": {
          "base_uri": "https://localhost:8080/"
        },
        "id": "i3fq2Rd9Dxq-",
        "outputId": "87978166-2ebd-40fe-be74-cf26bfb40832"
      },
      "execution_count": null,
      "outputs": [
        {
          "output_type": "stream",
          "name": "stdout",
          "text": [
            "https://docs.google.com/spreadsheets/d/1Jxcr8PvzqyEOa3DDT7wh9sBgJDGoDTqqLvDoT1r9R10/edit#gid=337413139\n",
            "[['2020-03-02', '2020-07-03', '2020-12-03', '2021-05-09', '2021-12-25'], ['2020-09-06', '2020-11-25', '2021-02-21', '2021-06-26', '2021-09-27', '2021-12-30', '2022-03-02'], ['2020-03-07', '2020-07-20', '2020-12-28', '2021-03-20', '2021-06-24', '2021-10-27'], ['2020-03-10', '2020-09-22', '2021-03-06', '2021-07-11', '2021-10-11', '2021-12-29'], ['2020-03-01', '2020-09-26', '2020-12-30', '2021-02-17', '2021-07-09', '2021-10-28'], ['2020-04-02', '2020-08-11', '2020-12-14', '2021-07-06', '2021-10-26']]\n",
            "['GB', 'NL', 'ES', 'DE', 'IT', 'FR']\n"
          ]
        },
        {
          "output_type": "stream",
          "name": "stderr",
          "text": [
            "/usr/local/lib/python3.7/dist-packages/IPython/core/interactiveshell.py:2882: DtypeWarning: Columns (5) have mixed types.Specify dtype option on import or set low_memory=False.\n",
            "  exec(code_obj, self.user_global_ns, self.user_ns)\n"
          ]
        },
        {
          "output_type": "stream",
          "name": "stdout",
          "text": [
            "https://docs.google.com/spreadsheets/d/1Jxcr8PvzqyEOa3DDT7wh9sBgJDGoDTqqLvDoT1r9R10/edit#gid=337413139\n",
            "[['2020-03-02', '2020-06-14', '2020-10-09', '2021-06-23', '2021-11-30'], ['2020-03-28', '2020-11-23', '2021-05-21', '2021-12-09']]\n",
            "['US', 'MX']\n",
            "https://docs.google.com/spreadsheets/d/1Jxcr8PvzqyEOa3DDT7wh9sBgJDGoDTqqLvDoT1r9R10/edit#gid=337413139\n",
            "[['2020-04-23', '2020-11-14', '2021-12-22'], ['2020-04-10', '2020-11-24', '2021-03-04', '2021-05-19', '2021-09-20', '2022-01-01'], ['2020-05-05', '2020-10-06', '2021-03-07', '2021-10-27'], ['2020-03-29', '2020-07-13', '2021-01-04', '2021-10-08']]\n",
            "['BR', 'CL', 'CO', 'PE']\n",
            "https://docs.google.com/spreadsheets/d/1Jxcr8PvzqyEOa3DDT7wh9sBgJDGoDTqqLvDoT1r9R10/edit#gid=337413139\n",
            "[['2021-05-13', '2021-12-20'], ['2020-03-01', '2020-07-03', '2020-11-03', '2022-02-02'], ['2020-03-01', '2020-08-12', '2020-10-27', '2021-06-20', '2022-01-17'], ['2020-03-24', '2020-07-04', '2020-10-26', '2021-03-12', '2021-07-25', '2022-01-09'], ['2021-07-02', '2021-10-28', '2022-02-07'], ['2020-12-17', '2021-04-03', '2021-06-11', '2022-01-04']]\n",
            "['TW', 'HK', 'KR', 'JP', 'VN', 'TH']\n",
            "https://docs.google.com/spreadsheets/d/1Jxcr8PvzqyEOa3DDT7wh9sBgJDGoDTqqLvDoT1r9R10/edit#gid=337413139\n",
            "[['2020-04-14', '2020-10-17', '2021-04-12', '2021-10-31'], ['2020-03-26', '2020-10-12', '2021-02-13', '2021-08-14', '2022-01-08'], ['2020-06-01', '2021-05-23', '2021-12-07'], ['2020-05-08', '2020-09-23', '2021-01-28', '2021-06-01', '2021-12-02']]\n",
            "['ZA', 'EG', 'MA', 'KE']\n",
            "https://docs.google.com/spreadsheets/d/1Jxcr8PvzqyEOa3DDT7wh9sBgJDGoDTqqLvDoT1r9R10/edit#gid=337413139\n",
            "[['2022-01-20'], ['2021-06-21', '2021-12-01', '2022-02-25']]\n",
            "['NZ', 'AU']\n"
          ]
        }
      ]
    },
    {
      "cell_type": "code",
      "source": [
        ""
      ],
      "metadata": {
        "id": "TdX8TsMS5Lh-"
      },
      "execution_count": null,
      "outputs": []
    }
  ]
}