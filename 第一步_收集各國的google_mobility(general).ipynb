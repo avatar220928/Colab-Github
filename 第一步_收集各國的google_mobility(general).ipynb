{
  "nbformat": 4,
  "nbformat_minor": 0,
  "metadata": {
    "colab": {
      "provenance": [],
      "collapsed_sections": [],
      "mount_file_id": "1XxmaDrNcsb_A9HODJiUvh4aK2VvxlTGJ",
      "authorship_tag": "ABX9TyOAdHs46ZNrTsbXJJC2l+hg",
      "include_colab_link": true
    },
    "kernelspec": {
      "name": "python3",
      "display_name": "Python 3"
    },
    "language_info": {
      "name": "python"
    }
  },
  "cells": [
    {
      "cell_type": "markdown",
      "metadata": {
        "id": "view-in-github",
        "colab_type": "text"
      },
      "source": [
        "<a href=\"https://colab.research.google.com/github/avatar220928/Colab-Github/blob/material/%E7%AC%AC%E4%B8%80%E6%AD%A5_%E6%94%B6%E9%9B%86%E5%90%84%E5%9C%8B%E7%9A%84google_mobility(general).ipynb\" target=\"_parent\"><img src=\"https://colab.research.google.com/assets/colab-badge.svg\" alt=\"Open In Colab\"/></a>"
      ]
    },
    {
      "cell_type": "markdown",
      "source": [
        "# **引入需要的套件**"
      ],
      "metadata": {
        "id": "diJcLkuE6YAa"
      }
    },
    {
      "cell_type": "code",
      "execution_count": null,
      "metadata": {
        "id": "i6v_hWCvCnw5"
      },
      "outputs": [],
      "source": [
        "from google.colab import drive  \n",
        "drive.mount('/content/drive')\n",
        "import pandas as pd\n",
        "import numpy as np\n",
        "from datetime import datetime\n",
        "import matplotlib.dates as mdates\n",
        "import matplotlib.pyplot as plt"
      ]
    },
    {
      "cell_type": "markdown",
      "metadata": {
        "id": "I4rOSYb5j3Oc"
      },
      "source": [
        "# **從google drive引入functions.py**"
      ]
    },
    {
      "cell_type": "code",
      "source": [
        "from google.colab import drive\n",
        "# drive.mount('/content/gdrive')\n",
        "!cp /content/drive/MyDrive/import/functions_7.py /content"
      ],
      "metadata": {
        "id": "C55lI1iedoI6"
      },
      "execution_count": null,
      "outputs": []
    },
    {
      "cell_type": "code",
      "source": [
        "import functions_7\n",
        "print(functions_7.__dir__())\n",
        "functions_7.DownloadTWCompany.__doc__"
      ],
      "metadata": {
        "id": "Alu8ajsQgmch"
      },
      "execution_count": null,
      "outputs": []
    },
    {
      "cell_type": "code",
      "source": [
        "#從google mobility爬蟲\n",
        "functions_7.DownloadTWCompany()"
      ],
      "metadata": {
        "id": "bXAEiysIg_tb"
      },
      "execution_count": null,
      "outputs": []
    },
    {
      "cell_type": "markdown",
      "source": [
        "# **讀檔、合併、篩選google mobility**"
      ],
      "metadata": {
        "id": "obTY_86KEn1_"
      }
    },
    {
      "cell_type": "code",
      "source": [
        "file_name = ['2020_{}_Region_Mobility_Report.csv', '2021_{}_Region_Mobility_Report.csv','2022_{}_Region_Mobility_Report.csv'] #設定要讀檔的名稱\n",
        "sheet_name = ['Central America','Europe', 'North America','South America','Asia','Africa','Oceania'] #\n",
        "\n",
        "for country in sheet_name:\n",
        "\n",
        "  #引入含有迴圈參數的google sheet\n",
        "  start_date, end_date, country_name, country_test,n = functions_7.googlesheet(country)\n",
        "  print(start_date)\n",
        "  print(country_name)\n",
        "\n",
        "  for i_1 in range(len(country_name)):\n",
        "    new_country_mobility = pd.DataFrame()\n",
        "    for i_2 in range(3):\n",
        "      country_mobility = pd.read_csv(file_name[i_2].format(country_name[i_1]))\n",
        "      new_country_mobility = new_country_mobility.append(country_mobility)\n",
        "      # print(type(new_country_mobility))\n",
        "      \n",
        "      country_mobility_all_2 = new_country_mobility[new_country_mobility.sub_region_1.isnull()]             #只挑出sub_region_1為空的\n",
        "      country_mobility_all_3 = country_mobility_all_2[country_mobility_all_2.metro_area.isnull()]            #只挑出metro_area為空的\n",
        "      country_mobility_all_3.set_index(pd.to_datetime(country_mobility_all_3['date'],format='%Y-%m-%d'),inplace=True)   #將index設定為日期\n",
        "\n",
        "      new_country_mobility = country_mobility_all_3[[ 'retail_and_recreation_percent_change_from_baseline',\\\n",
        "                              'grocery_and_pharmacy_percent_change_from_baseline',\\\n",
        "                              'parks_percent_change_from_baseline',\\\n",
        "                              'transit_stations_percent_change_from_baseline',\\\n",
        "                              'workplaces_percent_change_from_baseline',\\\n",
        "                              'residential_percent_change_from_baseline']]\n",
        "                      \n",
        "      #country_mobility_all_3.to_csv(country_name[i_1]+'_Google_mobility.csv',index=False)\n",
        "      new_country_mobility.to_csv('/content/drive/MyDrive/mobility移動資料/google_mobility/Region_Mobility_Report_CSVs/'+country_name[i_1]+'_Google_mobility_all.csv',index=False)"
      ],
      "metadata": {
        "id": "i3fq2Rd9Dxq-"
      },
      "execution_count": null,
      "outputs": []
    }
  ]
}