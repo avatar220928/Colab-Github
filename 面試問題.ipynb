{
  "nbformat": 4,
  "nbformat_minor": 0,
  "metadata": {
    "colab": {
      "provenance": [],
      "mount_file_id": "1Y7_TpSwHOSZyl7yNfYjC7G20wJ8cVcpk",
      "authorship_tag": "ABX9TyO1AmGqBiVrrKSwvvFbFCxY",
      "include_colab_link": true
    },
    "kernelspec": {
      "name": "python3",
      "display_name": "Python 3"
    },
    "language_info": {
      "name": "python"
    }
  },
  "cells": [
    {
      "cell_type": "markdown",
      "metadata": {
        "id": "view-in-github",
        "colab_type": "text"
      },
      "source": [
        "<a href=\"https://colab.research.google.com/github/avatar220928/Colab-Github/blob/material/%E9%9D%A2%E8%A9%A6%E5%95%8F%E9%A1%8C.ipynb\" target=\"_parent\"><img src=\"https://colab.research.google.com/assets/colab-badge.svg\" alt=\"Open In Colab\"/></a>"
      ]
    },
    {
      "cell_type": "markdown",
      "source": [
        "# **第一題**"
      ],
      "metadata": {
        "id": "9JCYFFg7toEL"
      }
    },
    {
      "cell_type": "code",
      "source": [
        "#製作每個胺基酸對應到的one_hot型態\n",
        "alphabet = ['A', 'C', 'D', 'E', 'F', 'G','H', 'I', 'K', 'L', 'M', 'N', 'P', 'Q', 'R', 'S', 'T', 'V', 'W', 'Y']\n",
        "import pandas as pd\n",
        "from pandas import Series\n",
        "df_onehot = pd.get_dummies(alphabet)\n",
        "true_df = df_onehot.T\n",
        "true_df"
      ],
      "metadata": {
        "id": "fSVOn6ZUbeYT"
      },
      "execution_count": null,
      "outputs": []
    },
    {
      "cell_type": "code",
      "source": [
        "df = pd.read_csv('test.csv') #讀取測試檔\n",
        "i_1 = 0\n",
        "while i_1 <= 2 :\n",
        "  A = []\n",
        "  index_list = []\n",
        "  index_list.extend(df[\"Sequence\"][i_1])\n",
        "  for i_2 in df[\"Sequence\"][i_1]:\n",
        "    for i_3 in true_df.index:\n",
        "      if i_2 == i_3:\n",
        "        alphabet_one_hot = list(true_df.loc[str(i_2)])\n",
        "        A.append(alphabet_one_hot)\n",
        "      \n",
        "  i_1+=1\n",
        "  answer = pd.DataFrame(A)\n",
        "  answer.index = Series(index_list)\n",
        "  print(answer)"
      ],
      "metadata": {
        "id": "XWithqL0eczh"
      },
      "execution_count": null,
      "outputs": []
    },
    {
      "cell_type": "markdown",
      "source": [
        "# **第二題**"
      ],
      "metadata": {
        "id": "U-a3TwOyuFPx"
      }
    },
    {
      "cell_type": "code",
      "source": [
        "!pip install pysam\n",
        "from pysam import FastaFile\n",
        "fasta = \"3S53_H3-11.fas\"\n",
        "# read FASTA file\n",
        "sequences_object = FastaFile(fasta)"
      ],
      "metadata": {
        "colab": {
          "base_uri": "https://localhost:8080/"
        },
        "id": "9uuKpm9VH1Y7",
        "outputId": "c5b9de5f-3a9b-4fe7-aa63-e5c46d413677"
      },
      "execution_count": 6,
      "outputs": [
        {
          "output_type": "stream",
          "name": "stdout",
          "text": [
            "Looking in indexes: https://pypi.org/simple, https://us-python.pkg.dev/colab-wheels/public/simple/\n",
            "Requirement already satisfied: pysam in /usr/local/lib/python3.7/dist-packages (0.20.0)\n"
          ]
        },
        {
          "output_type": "execute_result",
          "data": {
            "text/plain": [
              "<pysam.libcfaidx.FastaFile at 0x7fdd23813d00>"
            ]
          },
          "metadata": {},
          "execution_count": 6
        }
      ]
    },
    {
      "cell_type": "code",
      "source": [
        "import pandas as pd\n",
        "f=open('3S53_H3-11.fas','r')\n",
        "lines=f.readlines()\n",
        "df = pd.DataFrame(lines)\n",
        "df = df[df.index%2 == 1] #保留奇數列"
      ],
      "metadata": {
        "id": "-w6lTBlQfujM"
      },
      "execution_count": 16,
      "outputs": []
    },
    {
      "cell_type": "code",
      "source": [
        "! pip install Bio\n",
        "from Bio import SeqIO"
      ],
      "metadata": {
        "id": "jot_Q_lbi-IT"
      },
      "execution_count": null,
      "outputs": []
    },
    {
      "cell_type": "code",
      "source": [
        "total = []\n",
        "import pandas as pd\n",
        "from pandas import Series\n",
        "for record in SeqIO.parse(\"3S53_H3-11.fas\", \"fasta\"):\n",
        "    seq_list.append(record.seq)\n",
        "    #列出每個胺基酸的數量\n",
        "    aa_count = {'A':0, 'C':0, 'D':0, 'E':0, 'F':0, 'G':0,'H':0, 'I':0, 'K':0, 'L':0, 'M':0, 'N':0, 'P':0, 'Q':0, 'R':0, 'S':0, 'T':0, 'V':0, 'W':0, 'Y':0}\n",
        "    sequence = record.seq\n",
        "    for aa in sequence:\n",
        "      aa_count[aa] += 1\n",
        "      listOfValues = aa_count.values()\n",
        "      listOfValues = list(listOfValues)\n",
        "    total.append([a/sum(listOfValues) for a in listOfValues])\n",
        "output = pd.DataFrame(total).T\n",
        "output.index = Series(list(aa_count.keys()))\n",
        "output_round_4 = output.round(4)"
      ],
      "metadata": {
        "id": "fXhyEf3llDl6"
      },
      "execution_count": 41,
      "outputs": []
    },
    {
      "cell_type": "code",
      "source": [
        "def highlight_cells(val):\n",
        "    if val == 0:\n",
        "      color = 'black'\n",
        "    elif 0.1 > val > 0:\n",
        "      color = ''\n",
        "    elif 0.2 > val >= 0.1:\n",
        "      color = 'yellow'\n",
        "    elif 0.4 > val >= 0.2:\n",
        "      color = 'red'\n",
        "    else:\n",
        "      color = 'orange'\n",
        "    return 'background-color: {}'.format(color)\n",
        "output_color = output_round_4.style.applymap(highlight_cells)"
      ],
      "metadata": {
        "id": "U6saY0r2R5qa"
      },
      "execution_count": 52,
      "outputs": []
    },
    {
      "cell_type": "code",
      "source": [
        "output_color.to_excel('胺基酸頻率.xlsx', sheet_name ='sheet1', index = True)"
      ],
      "metadata": {
        "colab": {
          "base_uri": "https://localhost:8080/"
        },
        "id": "3VNDvBNOn7Aw",
        "outputId": "a369206c-05df-4ece-b57b-d307fa2312e1"
      },
      "execution_count": 54,
      "outputs": [
        {
          "output_type": "stream",
          "name": "stderr",
          "text": [
            "/usr/local/lib/python3.7/dist-packages/pandas/io/formats/excel.py:395: CSSWarning: Unhandled color format: ''\n",
            "  warnings.warn(f\"Unhandled color format: {repr(val)}\", CSSWarning)\n"
          ]
        }
      ]
    }
  ]
}