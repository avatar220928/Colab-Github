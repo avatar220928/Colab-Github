{
  "nbformat": 4,
  "nbformat_minor": 0,
  "metadata": {
    "colab": {
      "name": "小工廠-google相關係數表.ipynb",
      "provenance": [],
      "collapsed_sections": [],
      "authorship_tag": "ABX9TyMYHyccLf21UafZaVbIj2BC",
      "include_colab_link": true
    },
    "kernelspec": {
      "name": "python3",
      "display_name": "Python 3"
    },
    "language_info": {
      "name": "python"
    }
  },
  "cells": [
    {
      "cell_type": "markdown",
      "metadata": {
        "id": "view-in-github",
        "colab_type": "text"
      },
      "source": [
        "<a href=\"https://colab.research.google.com/github/avatar220928/Colab-Github/blob/material/%E5%B0%8F%E5%B7%A5%E5%BB%A0_google%E7%9B%B8%E9%97%9C%E4%BF%82%E6%95%B8%E8%A1%A8.ipynb\" target=\"_parent\"><img src=\"https://colab.research.google.com/assets/colab-badge.svg\" alt=\"Open In Colab\"/></a>"
      ]
    },
    {
      "cell_type": "markdown",
      "source": [
        "# **引入需要的套件**"
      ],
      "metadata": {
        "id": "u-HluuV18utr"
      }
    },
    {
      "cell_type": "code",
      "execution_count": null,
      "metadata": {
        "id": "djFFtkuN68TV",
        "colab": {
          "base_uri": "https://localhost:8080/"
        },
        "outputId": "9cdf0148-0dff-46d0-d9aa-153b86dd770f"
      },
      "outputs": [
        {
          "output_type": "stream",
          "name": "stdout",
          "text": [
            "Mounted at /content/drive\n"
          ]
        }
      ],
      "source": [
        "import pandas as pd\n",
        "import numpy as np\n",
        "from datetime import datetime\n",
        "import matplotlib.dates as mdates\n",
        "import matplotlib.pyplot as plt\n",
        "import seaborn as sns\n",
        "from scipy.stats.stats import pearsonr\n",
        "from sklearn.linear_model import LinearRegression\n",
        "from sklearn import datasets\n",
        "import requests\n",
        "from bs4 import BeautifulSoup\n",
        "from google.colab import drive\n",
        "drive.mount('/content/drive')\n",
        "from google.colab import files"
      ]
    },
    {
      "cell_type": "markdown",
      "metadata": {
        "id": "I4rOSYb5j3Oc"
      },
      "source": [
        "# **從google mobility爬蟲mobility資料**"
      ]
    },
    {
      "cell_type": "markdown",
      "source": [
        ""
      ],
      "metadata": {
        "id": "rQ_XA2Qp-FTE"
      }
    },
    {
      "cell_type": "code",
      "source": [
        "import urllib.request as urllib2\n",
        "#urllib2.urlopen \n",
        "\n",
        "import zipfile #zipfile.ZipFile\n",
        "\n",
        "\n",
        "def DownloadTWCompany():\n",
        "    # 檔案下載\n",
        "\n",
        "    print('開始')\n",
        "    downloadurl = urllib2.urlopen('https://www.gstatic.com/covid19/mobility/Region_Mobility_Report_CSVs.zip')\n",
        "    zipcontent= downloadurl.read()\n",
        "    with open(\"TWRAW.zip\", 'wb') as a:\n",
        "        a.write(zipcontent)\n",
        "    print (\"下載完成!\")\n",
        "\n",
        "    # 解壓縮檔案\n",
        "\n",
        "    print (\"資料解壓縮...\")\n",
        "    with zipfile.ZipFile(open('TWRAW.zip', 'rb')) as a:\n",
        "        a.extractall(\".\") \n",
        "\n",
        "    \n",
        "    print (\"解壓縮完成!\")\n",
        "\n",
        "DownloadTWCompany()\n",
        "\n",
        "mobility = pd.read_csv('2020_TW_Region_Mobility_Report.csv')\n",
        "print('有讀進去!')"
      ],
      "metadata": {
        "colab": {
          "base_uri": "https://localhost:8080/"
        },
        "id": "VO4249YUw2Ay",
        "outputId": "876c3711-21bc-44ee-a7e4-fe02c6b4f59d"
      },
      "execution_count": null,
      "outputs": [
        {
          "output_type": "stream",
          "name": "stdout",
          "text": [
            "開始\n",
            "下載完成!\n",
            "資料解壓縮...\n",
            "解壓縮完成!\n",
            "有讀進去!\n"
          ]
        }
      ]
    },
    {
      "cell_type": "markdown",
      "source": [
        "# **def: 刪除google sheet裡的nan值**"
      ],
      "metadata": {
        "id": "saQS3FS0JQPP"
      }
    },
    {
      "cell_type": "code",
      "execution_count": null,
      "metadata": {
        "id": "n-0nZH5x-AL7"
      },
      "outputs": [],
      "source": [
        "def deletenan (sheets,a):\n",
        "  A = sheets.col_values(a)\n",
        "  #print(A)\n",
        "  country_google_name = A.copy() #A是google_name的複製版\n",
        "  for i in range(len(A)):\n",
        "    if A[i]== '':\n",
        "      country_google_name.remove(A[i])\n",
        "  # print(country_google_name)\n",
        "  return country_google_name"
      ]
    },
    {
      "cell_type": "markdown",
      "source": [
        "# **def: 將tinestamp格式轉換成string**"
      ],
      "metadata": {
        "id": "fWKRWbZu_3ti"
      }
    },
    {
      "cell_type": "code",
      "source": [
        "def timestamp2string(a):\n",
        "  #a = a.to_pydatetime()\n",
        "  str1 = a.strftime('%Y-%m-%d')\n",
        "  return str1"
      ],
      "metadata": {
        "id": "cUMVmBhtgLGO"
      },
      "execution_count": null,
      "outputs": []
    },
    {
      "cell_type": "markdown",
      "metadata": {
        "id": "FXAxslnR24jO"
      },
      "source": [
        "# **def: 切開日期list、指定日期**"
      ]
    },
    {
      "cell_type": "code",
      "source": [
        "def split_list(date, n, n_2):\n",
        "  a = 0\n",
        "  if n[0]!= 1:\n",
        "    for  i_6 in range(len(n_2)):\n",
        "      a = a + n[i_6]\n",
        "      yield date[a : a + n_2[i_6]]\n",
        "  else: \n",
        "      yield date[0 : 1]"
      ],
      "metadata": {
        "id": "85Rd3-H8K3fw"
      },
      "execution_count": null,
      "outputs": []
    },
    {
      "cell_type": "markdown",
      "source": [
        "# **def: 整理google mobility資料和case資料並且算出correlation**"
      ],
      "metadata": {
        "id": "KjHU_u-zAr_7"
      }
    },
    {
      "cell_type": "code",
      "source": [
        "import math\n",
        "\n",
        "all_case= pd.read_csv('/content/drive/MyDrive/mobility移動資料/all_cases/owid-covid-data.csv') #讀入新增案例數\n",
        "\n",
        "country_mobility_1 = []\n",
        "country_mobility_2 = []\n",
        "\n",
        "file_name = ['2020_{}_Region_Mobility_Report.csv', '2021_{}_Region_Mobility_Report.csv','2022_{}_Region_Mobility_Report.csv'] #設定要讀入的名稱\n",
        "\n",
        "google_places=['retail_and_recreation_percent_change_from_baseline',\n",
        "        'grocery_and_pharmacy_percent_change_from_baseline',\n",
        "        'parks_percent_change_from_baseline',\n",
        "        'transit_stations_percent_change_from_baseline',\n",
        "        'workplaces_percent_change_from_baseline']\n",
        "\n",
        "labels = [ 'retail', 'grocery', 'park', 'transit', 'workplaces']\n",
        "\n",
        "#開始算corr和p-value\n",
        "\n",
        "def googlecorrtable(country_name, country_test):\n",
        "  for i in range(len(country_name)):\n",
        "    print('現在進入到這個國家: '+country_name[i])\n",
        "    corr=[]\n",
        "    p=[]\n",
        "    choose=[]\n",
        "    new_country_mobility = pd.DataFrame()\n",
        "\n",
        "    for i_5 in range(0,3):\n",
        "        country_mobility = pd.read_csv(file_name[i_5].format(country_name[i]))\n",
        "        new_country_mobility = new_country_mobility.append(country_mobility)\n",
        "    # print('成功')\n",
        "\n",
        "    choose = all_case[ 'location' ] == country_test[i]\n",
        "\n",
        "    n = len(start_date[i])\n",
        "    A = pd.DataFrame(np.zeros((n*5,4)),columns=['n','place','Coefficient_of_Correlation','p-value'])\n",
        "\n",
        "    for ii in range(len(start_date[i])): \n",
        "      A['n'][ii*5:ii*5+5] = str(ii+1)  #A的第一欄填上第幾波\n",
        "\n",
        "      new_country_mobility.set_index(pd.to_datetime(new_country_mobility['date'],format='%Y-%m-%d'),inplace=True) \n",
        "      mobility=new_country_mobility [new_country_mobility [\"date\"].between(start_date[i][ii],end_date[i][ii])] \n",
        "\n",
        "      mobility_1 = mobility[mobility.sub_region_1.isnull()] #取出mobility中所需要的部分\n",
        "      mobility_2 = mobility_1[mobility_1.metro_area.isnull()]\n",
        "      mobility_3 = mobility_2[mobility_2.iso_3166_2_code.isnull()]\n",
        "      \n",
        "      TW_case = all_case[choose]\n",
        "      TW_case.set_index(pd.to_datetime(TW_case['date'],format='%Y-%m-%d'),inplace=True)\n",
        "      TW_case = TW_case[TW_case['date'].between(start_date[i][ii],end_date[i][ii])]\n",
        "\n",
        "      for iii in range(len(google_places)):\n",
        "        \n",
        "        aa = mobility_3[google_places[iii]]\n",
        "        bb = TW_case['new_cases']\n",
        "        # print(np.isnan(aa))\n",
        "        # print(np.isnan(bb))\n",
        "        # print(type(aa))\n",
        "\n",
        "        check_for_nan_1 = aa.isnull().any().any()\n",
        "        # print ('google_mobility有nan嗎?'+ str(check_for_nan_1))\n",
        "\n",
        "        check_for_nan_2 = bb.isnull().any().any()\n",
        "        # print ('case number有nan嗎?'+ str(check_for_nan_2))\n",
        "\n",
        "        if str(check_for_nan_1)=='True' or str(check_for_nan_2)=='True': \n",
        "          nansite_1 = aa.index[np.where(np.isnan(aa))]  #找google的nan位置\n",
        "          nansite_2 = bb.index[np.where(np.isnan(bb))]  #找case的nan位置\n",
        "          # print(timestamp2string(nansite_1))\n",
        "          # print(timestamp2string(nansite_2))\n",
        "          for cc in range(len(nansite_2)):\n",
        "            aa = aa.drop(pd.to_datetime(timestamp2string(nansite_2)[cc]))  #轉換資料型態\n",
        "          for dd in range(len(nansite_1)):\n",
        "            bb = bb.drop(pd.to_datetime(timestamp2string(nansite_1)[dd]))\n",
        "\n",
        "          bb = bb[bb.notna()]\n",
        "          aa = aa[aa.notna()]\n",
        "          # print(len(aa))\n",
        "          # print(len(bb))\n",
        "          # print(aa)\n",
        "          # print(bb)\n",
        "\n",
        "        \n",
        "        if (len(aa)!=0):\n",
        "          ans = pearsonr(aa, bb) #算出皮爾森相關係數\n",
        "          corr.append(ans[0])\n",
        "          p.append(ans[1])\n",
        "\n",
        "        else:\n",
        "          corr.append(-99)\n",
        "          p.append(-99)\n",
        "        # print(corr)\n",
        "\n",
        "\n",
        "        sum=[]\n",
        "        for b in range(len(start_date[i])):\n",
        "          sum=sum+labels\n",
        "        A['place']=sum     #在A的place欄位填入google場所\n",
        "\n",
        "      \n",
        "      # print('算完corr和p-value',country_name[i])\n",
        "\n",
        "    A['Coefficient_of_Correlation'] = corr #在A的Coefficient_of_Correlation欄位填入相關係數\n",
        "    A['p-value'] = p            #在A的p-value欄位填入p-value\n",
        "    print(A)\n",
        "    A.to_csv(country_name[i]+'_Google_相關係數.csv',index=False)\n",
        "    mobility_extracted = mobility[['date',\\\n",
        "                    'retail_and_recreation_percent_change_from_baseline',\\\n",
        "                    'grocery_and_pharmacy_percent_change_from_baseline',\\\n",
        "                    'parks_percent_change_from_baseline',\\\n",
        "                    'transit_stations_percent_change_from_baseline',\\\n",
        "                    'workplaces_percent_change_from_baseline',\\\n",
        "                    'residential_percent_change_from_baseline']]\n",
        "    \n",
        "    i+1 \n",
        "\n",
        "    \n"
      ],
      "metadata": {
        "id": "FArDFxKgchm7"
      },
      "execution_count": null,
      "outputs": []
    },
    {
      "cell_type": "code",
      "source": [
        "import gspread\n",
        "from google.colab import auth\n",
        "from oauth2client.client import GoogleCredentials\n",
        "\n",
        "auth.authenticate_user()\n",
        "gc = gspread.authorize(GoogleCredentials.get_application_default())\n",
        "\n",
        "urls='https://docs.google.com/spreadsheets/d/1Jxcr8PvzqyEOa3DDT7wh9sBgJDGoDTqqLvDoT1r9R10/edit#gid=337413139'\n",
        "\n",
        "sheet_name = ['Europe', 'North America','South America','Asia','Africa','Oceania'] \n",
        "country_mobility_1 = gc.open_by_url(urls)\n",
        "\n",
        "for i_1 in range(len(sheet_name)):\n",
        "  sheet = country_mobility_1.worksheet(sheet_name[i_1])  #讀取國家全名的全部sheet\n",
        "\n",
        "  #消除nan\n",
        "\n",
        "  data=[]\n",
        "  col=[ii for ii in range(1,7)]\n",
        "\n",
        "  for b in col:\n",
        "    c = deletenan(sheet,a = b)  #去除每條column的nan值\n",
        "    data.append(c)\n",
        "\n",
        "  for bb in range(len(data)):\n",
        "\n",
        "    int_n = list(map(int, data[3]))  #讓list裡的str變成int\n",
        "    int_n_2 = int_n.copy()\n",
        "    int_n.insert(0, 0)\n",
        "\n",
        "  start_date = list(split_list(data[4], int_n, int_n_2))\n",
        "  end_date = list(split_list(data[5], int_n, int_n_2))\n",
        "\n",
        "  country_name = data[1] #google mobility\n",
        "  country_test = data[0] #case number\n",
        "\n",
        "  googlecorrtable(country_name, country_test)"
      ],
      "metadata": {
        "colab": {
          "base_uri": "https://localhost:8080/"
        },
        "id": "S6O21DoxfZUq",
        "outputId": "010e5a18-9171-456b-b108-48d585f70aa9"
      },
      "execution_count": null,
      "outputs": [
        {
          "output_type": "stream",
          "name": "stdout",
          "text": [
            "現在進入到這個國家: GB\n"
          ]
        },
        {
          "output_type": "stream",
          "name": "stderr",
          "text": [
            "/usr/local/lib/python3.7/dist-packages/ipykernel_launcher.py:39: SettingWithCopyWarning: \n",
            "A value is trying to be set on a copy of a slice from a DataFrame\n",
            "\n",
            "See the caveats in the documentation: https://pandas.pydata.org/pandas-docs/stable/user_guide/indexing.html#returning-a-view-versus-a-copy\n"
          ]
        },
        {
          "output_type": "stream",
          "name": "stdout",
          "text": [
            "    n       place  Coefficient_of_Correlation       p-value\n",
            "0   1      retail                   -0.690155  1.048879e-18\n",
            "1   1     grocery                   -0.704203  1.024628e-19\n",
            "2   1        park                   -0.530260  2.832779e-10\n",
            "3   1     transit                   -0.753871  8.070461e-24\n",
            "4   1  workplaces                   -0.759467  2.416880e-24\n",
            "5   2      retail                   -0.446839  9.933579e-09\n",
            "6   2     grocery                    0.173148  3.409779e-02\n",
            "7   2        park                   -0.772310  5.777552e-31\n",
            "8   2     transit                   -0.544590  5.852659e-13\n",
            "9   2  workplaces                    0.112946  1.687787e-01\n",
            "10  3      retail                   -0.297998  4.944652e-04\n",
            "11  3     grocery                   -0.376302  8.045437e-06\n",
            "12  3        park                   -0.521741  1.196534e-10\n",
            "13  3     transit                   -0.475358  7.391045e-09\n",
            "14  3  workplaces                   -0.315154  2.200208e-04\n",
            "15  4      retail                    0.489303  8.462314e-14\n",
            "16  4     grocery                    0.007234  9.178049e-01\n",
            "17  4        park                   -0.252975  2.438455e-04\n",
            "18  4     transit                    0.398290  3.049855e-09\n",
            "19  4  workplaces                   -0.031901  6.489693e-01\n",
            "20  5      retail                   -0.340168  1.652494e-03\n",
            "21  5     grocery                   -0.136450  2.186865e-01\n",
            "22  5        park                   -0.104434  3.474296e-01\n",
            "23  5     transit                   -0.698227  2.182158e-13\n",
            "24  5  workplaces                   -0.579069  9.763242e-09\n",
            "現在進入到這個國家: NL\n"
          ]
        },
        {
          "output_type": "stream",
          "name": "stderr",
          "text": [
            "/usr/local/lib/python3.7/dist-packages/ipykernel_launcher.py:37: DtypeWarning: Columns (5) have mixed types.Specify dtype option on import or set low_memory=False.\n",
            "/usr/local/lib/python3.7/dist-packages/ipykernel_launcher.py:39: SettingWithCopyWarning: \n",
            "A value is trying to be set on a copy of a slice from a DataFrame\n",
            "\n",
            "See the caveats in the documentation: https://pandas.pydata.org/pandas-docs/stable/user_guide/indexing.html#returning-a-view-versus-a-copy\n"
          ]
        },
        {
          "output_type": "stream",
          "name": "stdout",
          "text": [
            "    n       place  Coefficient_of_Correlation       p-value\n",
            "0   1      retail                   -0.720203  5.088783e-14\n",
            "1   1     grocery                   -0.249910  2.537211e-02\n",
            "2   1        park                   -0.637444  2.044486e-10\n",
            "3   1     transit                   -0.754955  6.019414e-16\n",
            "4   1  workplaces                   -0.193738  8.508180e-02\n",
            "5   2      retail                    0.001493  9.898594e-01\n",
            "6   2     grocery                    0.104699  3.713476e-01\n",
            "7   2        park                   -0.079726  4.965455e-01\n",
            "8   2     transit                   -0.152225  1.923088e-01\n",
            "9   2  workplaces                   -0.278803  1.542718e-02\n",
            "10  3      retail                   -0.561241  3.822237e-11\n",
            "11  3     grocery                   -0.302200  8.813251e-04\n",
            "12  3        park                   -0.370153  3.697467e-05\n",
            "13  3     transit                   -0.503524  6.180409e-09\n",
            "14  3  workplaces                   -0.191937  3.732629e-02\n",
            "15  4      retail                   -0.019993  8.695147e-01\n",
            "16  4     grocery                    0.173977  1.497555e-01\n",
            "17  4        park                    0.095588  4.311921e-01\n",
            "18  4     transit                   -0.057283  6.376270e-01\n",
            "19  4  workplaces                    0.009026  9.408854e-01\n",
            "20  5      retail                   -0.384650  1.293022e-04\n",
            "21  5     grocery                    0.030586  7.697928e-01\n",
            "22  5        park                   -0.685203  2.590406e-14\n",
            "23  5     transit                   -0.470424  1.715723e-06\n",
            "24  5  workplaces                   -0.051810  6.199433e-01\n",
            "25  6      retail                    0.328024  1.194541e-02\n",
            "26  6     grocery                    0.033733  8.015179e-01\n",
            "27  6        park                    0.127014  3.420575e-01\n",
            "28  6     transit                    0.319120  1.462036e-02\n",
            "29  6  workplaces                    0.170856  1.997273e-01\n",
            "30  7      retail                   -0.219104  3.981570e-01\n",
            "31  7     grocery                   -0.301248  2.399885e-01\n",
            "32  7        park                   -0.039929  8.790675e-01\n",
            "33  7     transit                   -0.051050  8.457240e-01\n",
            "34  7  workplaces                    0.015314  9.534828e-01\n",
            "現在進入到這個國家: ES\n"
          ]
        },
        {
          "output_type": "stream",
          "name": "stderr",
          "text": [
            "/usr/local/lib/python3.7/dist-packages/ipykernel_launcher.py:39: SettingWithCopyWarning: \n",
            "A value is trying to be set on a copy of a slice from a DataFrame\n",
            "\n",
            "See the caveats in the documentation: https://pandas.pydata.org/pandas-docs/stable/user_guide/indexing.html#returning-a-view-versus-a-copy\n"
          ]
        },
        {
          "output_type": "stream",
          "name": "stdout",
          "text": [
            "    n       place  Coefficient_of_Correlation       p-value\n",
            "0   1      retail                   -0.512525  1.886566e-06\n",
            "1   1     grocery                   -0.521118  1.179480e-06\n",
            "2   1        park                   -0.687433  5.023678e-12\n",
            "3   1     transit                   -0.604320  5.904780e-09\n",
            "4   1  workplaces                   -0.588302  1.840598e-08\n",
            "5   2      retail                    0.016903  8.389765e-01\n",
            "6   2     grocery                    0.005183  9.503232e-01\n",
            "7   2        park                   -0.189248  2.169278e-02\n",
            "8   2     transit                    0.315078  1.014959e-04\n",
            "9   2  workplaces                   -0.280894  5.684435e-04\n",
            "10  3      retail                    0.155212  1.929601e-01\n",
            "11  3     grocery                    0.091265  4.457919e-01\n",
            "12  3        park                   -0.109709  3.589355e-01\n",
            "13  3     transit                    0.145252  2.234504e-01\n",
            "14  3  workplaces                   -0.039752  7.402405e-01\n",
            "15  4      retail                    0.157748  1.268213e-01\n",
            "16  4     grocery                    0.060225  5.620816e-01\n",
            "17  4        park                   -0.035988  7.291637e-01\n",
            "18  4     transit                    0.008440  9.353001e-01\n",
            "19  4  workplaces                   -0.205537  4.569592e-02\n",
            "20  5      retail                    0.558524  1.061447e-09\n",
            "21  5     grocery                    0.046587  6.419613e-01\n",
            "22  5        park                    0.575435  2.511167e-10\n",
            "23  5     transit                   -0.376426  9.647428e-05\n",
            "24  5  workplaces                   -0.589704  6.970227e-11\n",
            "25  6      retail                    0.184575  2.788145e-02\n",
            "26  6     grocery                    0.110280  1.913801e-01\n",
            "27  6        park                    0.152495  7.002762e-02\n",
            "28  6     transit                   -0.234005  5.065081e-03\n",
            "29  6  workplaces                   -0.217226  9.410938e-03\n",
            "現在進入到這個國家: DE\n",
            "    n       place  Coefficient_of_Correlation       p-value\n",
            "0   1      retail                   -0.525563  1.485511e-04\n",
            "1   1     grocery                   -0.208874  1.588336e-01\n",
            "2   1        park                   -0.169273  2.553458e-01\n",
            "3   1     transit                   -0.645330  9.721730e-07\n",
            "4   1  workplaces                   -0.530020  1.273331e-04\n",
            "5   2      retail                   -0.152944  5.504595e-02\n",
            "6   2     grocery                    0.073752  3.570817e-01\n",
            "7   2        park                   -0.477132  2.325125e-10\n",
            "8   2     transit                   -0.258764  1.027523e-03\n",
            "9   2  workplaces                   -0.220016  5.474197e-03\n",
            "10  3      retail                   -0.485832  1.617264e-08\n",
            "11  3     grocery                   -0.212300  1.939907e-02\n",
            "12  3        park                   -0.418397  1.792234e-06\n",
            "13  3     transit                   -0.508581  2.590375e-09\n",
            "14  3  workplaces                   -0.308401  5.785325e-04\n",
            "15  4      retail                    0.027655  8.016289e-01\n",
            "16  4     grocery                   -0.127111  2.463487e-01\n",
            "17  4        park                   -0.137801  2.085143e-01\n",
            "18  4     transit                    0.014137  8.978204e-01\n",
            "19  4  workplaces                   -0.058878  5.924717e-01\n",
            "20  5      retail                    0.127976  2.673503e-01\n",
            "21  5     grocery                    0.131425  2.545636e-01\n",
            "22  5        park                   -0.446988  4.595937e-05\n",
            "23  5     transit                   -0.096506  4.037516e-01\n",
            "24  5  workplaces                    0.130975  2.562053e-01\n",
            "25  6      retail                    0.279963  1.189764e-02\n",
            "26  6     grocery                    0.013996  9.019308e-01\n",
            "27  6        park                    0.056778  6.169015e-01\n",
            "28  6     transit                    0.218340  5.169054e-02\n",
            "29  6  workplaces                    0.068836  5.440373e-01\n",
            "現在進入到這個國家: IT\n"
          ]
        },
        {
          "output_type": "stream",
          "name": "stderr",
          "text": [
            "/usr/local/lib/python3.7/dist-packages/ipykernel_launcher.py:39: SettingWithCopyWarning: \n",
            "A value is trying to be set on a copy of a slice from a DataFrame\n",
            "\n",
            "See the caveats in the documentation: https://pandas.pydata.org/pandas-docs/stable/user_guide/indexing.html#returning-a-view-versus-a-copy\n",
            "/usr/local/lib/python3.7/dist-packages/ipykernel_launcher.py:39: SettingWithCopyWarning: \n",
            "A value is trying to be set on a copy of a slice from a DataFrame\n",
            "\n",
            "See the caveats in the documentation: https://pandas.pydata.org/pandas-docs/stable/user_guide/indexing.html#returning-a-view-versus-a-copy\n"
          ]
        },
        {
          "output_type": "stream",
          "name": "stdout",
          "text": [
            "    n       place  Coefficient_of_Correlation       p-value\n",
            "0   1      retail                   -0.685627  2.195682e-11\n",
            "1   1     grocery                   -0.501033  6.339536e-06\n",
            "2   1        park                   -0.760002  6.350170e-15\n",
            "3   1     transit                   -0.729296  2.539281e-13\n",
            "4   1  workplaces                   -0.720160  6.918029e-13\n",
            "5   2      retail                   -0.590468  5.828808e-10\n",
            "6   2     grocery                   -0.203589  5.159484e-02\n",
            "7   2        park                   -0.510430  2.015401e-07\n",
            "8   2     transit                   -0.639010  7.161143e-12\n",
            "9   2  workplaces                   -0.314232  2.284866e-03\n",
            "10  3      retail                   -0.346081  2.666002e-02\n",
            "11  3     grocery                   -0.165398  3.013940e-01\n",
            "12  3        park                   -0.301413  5.547974e-02\n",
            "13  3     transit                   -0.469845  1.939000e-03\n",
            "14  3  workplaces                   -0.541234  2.582217e-04\n",
            "15  4      retail                   -0.806730  8.410382e-31\n",
            "16  4     grocery                   -0.359685  2.833292e-05\n",
            "17  4        park                   -0.778988  1.629077e-27\n",
            "18  4     transit                   -0.807304  7.099066e-31\n",
            "19  4  workplaces                   -0.425768  4.898818e-07\n",
            "20  5      retail                    0.190825  5.594061e-02\n",
            "21  5     grocery                    0.043288  6.673221e-01\n",
            "22  5        park                    0.586696  1.139038e-10\n",
            "23  5     transit                    0.001346  9.893422e-01\n",
            "24  5  workplaces                   -0.294339  2.810518e-03\n",
            "25  6      retail                   -0.452521  1.568865e-08\n",
            "26  6     grocery                   -0.059431  4.823294e-01\n",
            "27  6        park                   -0.150132  7.453120e-02\n",
            "28  6     transit                   -0.649423  2.288518e-18\n",
            "29  6  workplaces                   -0.308686  1.857768e-04\n",
            "現在進入到這個國家: FR\n"
          ]
        },
        {
          "output_type": "stream",
          "name": "stderr",
          "text": [
            "/usr/local/lib/python3.7/dist-packages/ipykernel_launcher.py:39: SettingWithCopyWarning: \n",
            "A value is trying to be set on a copy of a slice from a DataFrame\n",
            "\n",
            "See the caveats in the documentation: https://pandas.pydata.org/pandas-docs/stable/user_guide/indexing.html#returning-a-view-versus-a-copy\n"
          ]
        },
        {
          "output_type": "stream",
          "name": "stdout",
          "text": [
            "    n       place  Coefficient_of_Correlation       p-value\n",
            "0   1      retail                   -0.039117  8.345095e-01\n",
            "1   1     grocery                   -0.071565  7.020367e-01\n",
            "2   1        park                   -0.201965  2.759074e-01\n",
            "3   1     transit                   -0.167818  3.668459e-01\n",
            "4   1  workplaces                    0.093095  6.184028e-01\n",
            "5   2      retail                   -0.526940  8.804940e-10\n",
            "6   2     grocery                   -0.382186  1.948681e-05\n",
            "7   2        park                   -0.484251  2.762228e-08\n",
            "8   2     transit                   -0.440090  6.144724e-07\n",
            "9   2  workplaces                   -0.138931  1.335122e-01\n",
            "10  3      retail                   -0.468706  2.262197e-12\n",
            "11  3     grocery                   -0.151540  3.175581e-02\n",
            "12  3        park                   -0.307676  8.866818e-06\n",
            "13  3     transit                   -0.393715  7.368129e-09\n",
            "14  3  workplaces                   -0.101662  1.509891e-01\n",
            "15  4      retail                   -0.045806  6.442776e-01\n",
            "16  4     grocery                    0.168425  8.743741e-02\n",
            "17  4        park                    0.579225  1.182999e-10\n",
            "18  4     transit                   -0.122353  2.159624e-01\n",
            "19  4  workplaces                   -0.265511  6.448797e-03\n",
            "20  5      retail                   -0.367537  5.852792e-06\n",
            "21  5     grocery                   -0.048413  5.644587e-01\n",
            "22  5        park                   -0.357800  1.068478e-05\n",
            "23  5     transit                   -0.513488  4.662503e-11\n",
            "24  5  workplaces                   -0.067488  4.215629e-01\n",
            "現在進入到這個國家: US\n"
          ]
        },
        {
          "output_type": "stream",
          "name": "stderr",
          "text": [
            "/usr/local/lib/python3.7/dist-packages/ipykernel_launcher.py:39: SettingWithCopyWarning: \n",
            "A value is trying to be set on a copy of a slice from a DataFrame\n",
            "\n",
            "See the caveats in the documentation: https://pandas.pydata.org/pandas-docs/stable/user_guide/indexing.html#returning-a-view-versus-a-copy\n"
          ]
        },
        {
          "output_type": "stream",
          "name": "stdout",
          "text": [
            "    n       place  Coefficient_of_Correlation       p-value\n",
            "0   1      retail                   -0.720276  6.307896e-17\n",
            "1   1     grocery                   -0.684049  8.249657e-15\n",
            "2   1        park                   -0.193349  5.645006e-02\n",
            "3   1     transit                   -0.802253  3.128651e-23\n",
            "4   1  workplaces                   -0.766810  3.444513e-20\n",
            "5   2      retail                    0.008199  9.399200e-01\n",
            "6   2     grocery                    0.040337  7.106739e-01\n",
            "7   2        park                    0.152712  1.579214e-01\n",
            "8   2     transit                    0.000554  9.959394e-01\n",
            "9   2  workplaces                   -0.074048  4.954796e-01\n",
            "10  3      retail                   -0.419319  4.888698e-11\n",
            "11  3     grocery                   -0.198271  2.754159e-03\n",
            "12  3        park                   -0.631072  1.651553e-26\n",
            "13  3     transit                   -0.570409  6.634629e-21\n",
            "14  3  workplaces                   -0.237060  3.238620e-04\n",
            "15  4      retail                   -0.289333  1.227939e-03\n",
            "16  4     grocery                   -0.013410  8.834478e-01\n",
            "17  4        park                   -0.503922  3.278522e-09\n",
            "18  4     transit                   -0.483200  1.728368e-08\n",
            "19  4  workplaces                   -0.271399  2.496186e-03\n",
            "20  5      retail                   -0.272993  8.108222e-03\n",
            "21  5     grocery                   -0.070565  5.014922e-01\n",
            "22  5        park                   -0.524707  6.706359e-08\n",
            "23  5     transit                   -0.603896  1.473316e-10\n",
            "24  5  workplaces                   -0.329618  1.253597e-03\n",
            "現在進入到這個國家: MX\n",
            "    n       place  Coefficient_of_Correlation       p-value\n",
            "0   1      retail                    0.586175  2.427266e-22\n",
            "1   1     grocery                    0.561521  2.919647e-20\n",
            "2   1        park                    0.559302  4.406623e-20\n",
            "3   1     transit                    0.519399  4.402198e-17\n",
            "4   1  workplaces                    0.287319  1.092058e-05\n",
            "5   2      retail                   -0.485535  8.490659e-12\n",
            "6   2     grocery                   -0.447900  4.574306e-10\n",
            "7   2        park                   -0.604070  6.965584e-19\n",
            "8   2     transit                   -0.567695  2.105531e-16\n",
            "9   2  workplaces                   -0.293904  7.523553e-05\n",
            "10  3      retail                   -0.277483  7.564062e-05\n",
            "11  3     grocery                   -0.180128  1.110487e-02\n",
            "12  3        park                   -0.328139  2.365210e-06\n",
            "13  3     transit                   -0.328655  2.275436e-06\n",
            "14  3  workplaces                   -0.200596  4.602355e-03\n",
            "15  4      retail                   -0.295198  2.867359e-03\n",
            "16  4     grocery                   -0.201189  4.473190e-02\n",
            "17  4        park                   -0.498849  1.275239e-07\n",
            "18  4     transit                   -0.341278  5.112099e-04\n",
            "19  4  workplaces                   -0.022469  8.243995e-01\n"
          ]
        },
        {
          "output_type": "stream",
          "name": "stderr",
          "text": [
            "/usr/local/lib/python3.7/dist-packages/ipykernel_launcher.py:39: SettingWithCopyWarning: \n",
            "A value is trying to be set on a copy of a slice from a DataFrame\n",
            "\n",
            "See the caveats in the documentation: https://pandas.pydata.org/pandas-docs/stable/user_guide/indexing.html#returning-a-view-versus-a-copy\n"
          ]
        },
        {
          "output_type": "stream",
          "name": "stdout",
          "text": [
            "現在進入到這個國家: BR\n"
          ]
        },
        {
          "output_type": "stream",
          "name": "stderr",
          "text": [
            "/usr/local/lib/python3.7/dist-packages/ipykernel_launcher.py:37: DtypeWarning: Columns (5) have mixed types.Specify dtype option on import or set low_memory=False.\n",
            "/usr/local/lib/python3.7/dist-packages/ipykernel_launcher.py:39: SettingWithCopyWarning: \n",
            "A value is trying to be set on a copy of a slice from a DataFrame\n",
            "\n",
            "See the caveats in the documentation: https://pandas.pydata.org/pandas-docs/stable/user_guide/indexing.html#returning-a-view-versus-a-copy\n"
          ]
        },
        {
          "output_type": "stream",
          "name": "stdout",
          "text": [
            "    n       place  Coefficient_of_Correlation       p-value\n",
            "0   1      retail                    0.408284  2.590241e-09\n",
            "1   1     grocery                    0.390925  1.349910e-08\n",
            "2   1        park                    0.280867  6.392146e-05\n",
            "3   1     transit                    0.256089  2.809390e-04\n",
            "4   1  workplaces                    0.158527  2.608352e-02\n",
            "5   2      retail                   -0.506154  2.611889e-26\n",
            "6   2     grocery                   -0.322893  9.629030e-11\n",
            "7   2        park                   -0.509898  9.764537e-27\n",
            "8   2     transit                   -0.494834  4.758739e-25\n",
            "9   2  workplaces                   -0.433620  5.458058e-19\n",
            "10  3      retail                    0.141691  1.904978e-01\n",
            "11  3     grocery                    0.035465  7.443408e-01\n",
            "12  3        park                   -0.366759  4.758249e-04\n",
            "13  3     transit                    0.328527  1.891981e-03\n",
            "14  3  workplaces                    0.277343  9.303319e-03\n",
            "現在進入到這個國家: CL\n"
          ]
        },
        {
          "output_type": "stream",
          "name": "stderr",
          "text": [
            "/usr/local/lib/python3.7/dist-packages/ipykernel_launcher.py:39: SettingWithCopyWarning: \n",
            "A value is trying to be set on a copy of a slice from a DataFrame\n",
            "\n",
            "See the caveats in the documentation: https://pandas.pydata.org/pandas-docs/stable/user_guide/indexing.html#returning-a-view-versus-a-copy\n"
          ]
        },
        {
          "output_type": "stream",
          "name": "stdout",
          "text": [
            "    n       place  Coefficient_of_Correlation       p-value\n",
            "0   1      retail                   -0.243418  2.871429e-03\n",
            "1   1     grocery                   -0.182305  2.657889e-02\n",
            "2   1        park                   -0.359303  7.300128e-06\n",
            "3   1     transit                   -0.334639  3.224064e-05\n",
            "4   1  workplaces                    0.090615  2.733928e-01\n",
            "5   2      retail                   -0.310231  2.765081e-03\n",
            "6   2     grocery                   -0.253797  1.520379e-02\n",
            "7   2        park                   -0.158413  1.336775e-01\n",
            "8   2     transit                   -0.341777  9.140762e-04\n",
            "9   2  workplaces                   -0.206275  4.979833e-02\n",
            "10  3      retail                   -0.538529  8.900696e-07\n",
            "11  3     grocery                   -0.391163  6.219872e-04\n",
            "12  3        park                   -0.525557  1.802953e-06\n",
            "13  3     transit                   -0.556042  3.270625e-07\n",
            "14  3  workplaces                   -0.424193  1.840171e-04\n",
            "15  4      retail                   -0.642867  6.332072e-14\n",
            "16  4     grocery                   -0.561702  2.540402e-10\n",
            "17  4        park                   -0.685659  2.683996e-16\n",
            "18  4     transit                   -0.662856  5.512569e-15\n",
            "19  4  workplaces                   -0.480086  1.458794e-07\n",
            "20  5      retail                    0.129691  2.178911e-01\n",
            "21  5     grocery                    0.133188  2.056280e-01\n",
            "22  5        park                    0.134675  2.005695e-01\n",
            "23  5     transit                    0.262909  1.134262e-02\n",
            "24  5  workplaces                    0.123528  2.407409e-01\n",
            "25  6      retail                    0.132992  2.488922e-01\n",
            "26  6     grocery                    0.214440  6.109984e-02\n",
            "27  6        park                    0.508837  2.298979e-06\n",
            "28  6     transit                   -0.095394  4.092194e-01\n",
            "29  6  workplaces                   -0.168062  1.440068e-01\n",
            "現在進入到這個國家: CO\n"
          ]
        },
        {
          "output_type": "stream",
          "name": "stderr",
          "text": [
            "/usr/local/lib/python3.7/dist-packages/ipykernel_launcher.py:39: SettingWithCopyWarning: \n",
            "A value is trying to be set on a copy of a slice from a DataFrame\n",
            "\n",
            "See the caveats in the documentation: https://pandas.pydata.org/pandas-docs/stable/user_guide/indexing.html#returning-a-view-versus-a-copy\n"
          ]
        },
        {
          "output_type": "stream",
          "name": "stdout",
          "text": [
            "    n       place  Coefficient_of_Correlation       p-value\n",
            "0   1      retail                    0.408216  1.477656e-07\n",
            "1   1     grocery                    0.343821  1.266635e-05\n",
            "2   1        park                    0.394535  4.125542e-07\n",
            "3   1     transit                    0.245951  2.107347e-03\n",
            "4   1  workplaces                    0.269724  7.174187e-04\n",
            "5   2      retail                   -0.360734  5.362247e-06\n",
            "6   2     grocery                   -0.260005  1.263771e-03\n",
            "7   2        park                   -0.151083  6.406160e-02\n",
            "8   2     transit                   -0.406233  2.275130e-07\n",
            "9   2  workplaces                   -0.293654  2.526898e-04\n",
            "10  3      retail                   -0.215882  1.978655e-03\n",
            "11  3     grocery                   -0.198498  4.525527e-03\n",
            "12  3        park                   -0.181063  9.731492e-03\n",
            "13  3     transit                   -0.293748  2.103280e-05\n",
            "14  3  workplaces                   -0.252478  2.789512e-04\n",
            "15  4      retail                   -0.289709  4.488081e-04\n",
            "16  4     grocery                   -0.194907  1.966327e-02\n",
            "17  4        park                   -0.059477  4.804194e-01\n",
            "18  4     transit                   -0.454625  1.171954e-08\n",
            "19  4  workplaces                   -0.221752  7.774300e-03\n",
            "現在進入到這個國家: PE\n"
          ]
        },
        {
          "output_type": "stream",
          "name": "stderr",
          "text": [
            "/usr/local/lib/python3.7/dist-packages/ipykernel_launcher.py:39: SettingWithCopyWarning: \n",
            "A value is trying to be set on a copy of a slice from a DataFrame\n",
            "\n",
            "See the caveats in the documentation: https://pandas.pydata.org/pandas-docs/stable/user_guide/indexing.html#returning-a-view-versus-a-copy\n"
          ]
        },
        {
          "output_type": "stream",
          "name": "stdout",
          "text": [
            "    n       place  Coefficient_of_Correlation       p-value\n",
            "0   1      retail                    0.123658  2.133323e-01\n",
            "1   1     grocery                    0.163583  9.872573e-02\n",
            "2   1        park                    0.320200  9.762509e-04\n",
            "3   1     transit                    0.366202  1.422509e-04\n",
            "4   1  workplaces                    0.455941  1.299778e-06\n",
            "5   2      retail                   -0.361676  6.286200e-06\n",
            "6   2     grocery                   -0.310485  1.227644e-04\n",
            "7   2        park                   -0.323187  6.163476e-05\n",
            "8   2     transit                   -0.400457  4.579564e-07\n",
            "9   2  workplaces                   -0.377663  2.223736e-06\n",
            "10  3      retail                   -0.436948  9.813913e-14\n",
            "11  3     grocery                   -0.369791  5.607675e-10\n",
            "12  3        park                   -0.434993  1.298641e-13\n",
            "13  3     transit                   -0.405725  6.973445e-12\n",
            "14  3  workplaces                   -0.297289  8.693487e-07\n",
            "15  4      retail                   -0.235944  2.506005e-03\n",
            "16  4     grocery                   -0.103771  1.888069e-01\n",
            "17  4        park                   -0.122229  1.212641e-01\n",
            "18  4     transit                   -0.178978  2.267828e-02\n",
            "19  4  workplaces                   -0.011903  8.805008e-01\n",
            "現在進入到這個國家: TW\n",
            "   n       place  Coefficient_of_Correlation       p-value\n",
            "0  1      retail                   -0.541335  2.111008e-08\n",
            "1  1     grocery                   -0.369821  2.638462e-04\n",
            "2  1        park                   -0.361614  3.688402e-04\n",
            "3  1     transit                   -0.498964  3.569223e-07\n",
            "4  1  workplaces                   -0.348370  6.216825e-04\n",
            "5  2      retail                   -0.157681  1.400032e-01\n",
            "6  2     grocery                   -0.101060  3.460196e-01\n",
            "7  2        park                   -0.043195  6.877395e-01\n",
            "8  2     transit                   -0.332669  1.446227e-03\n",
            "9  2  workplaces                    0.072021  5.024041e-01\n",
            "現在進入到這個國家: HK\n",
            "    n       place  Coefficient_of_Correlation       p-value\n",
            "0   1      retail                   -0.646358  1.221489e-06\n",
            "1   1     grocery                   -0.150458  3.182450e-01\n",
            "2   1        park                   -0.615839  5.224093e-06\n",
            "3   1     transit                   -0.464841  1.135153e-03\n",
            "4   1  workplaces                   -0.119713  4.281012e-01\n",
            "5   2      retail                   -0.752532  7.954788e-18\n",
            "6   2     grocery                   -0.361089  4.374818e-04\n",
            "7   2        park                   -0.411152  5.155095e-05\n",
            "8   2     transit                   -0.758301  3.199605e-18\n",
            "9   2  workplaces                   -0.587652  9.144154e-10\n",
            "10  3      retail                   -0.568846  8.037569e-17\n",
            "11  3     grocery                   -0.251128  6.728279e-04\n",
            "12  3        park                   -0.310274  2.246597e-05\n",
            "13  3     transit                   -0.585029  6.475920e-18\n",
            "14  3  workplaces                   -0.177933  1.686262e-02\n",
            "15  4      retail                   -0.661325  7.598280e-07\n",
            "16  4     grocery                   -0.292333  5.133794e-02\n",
            "17  4        park                   -0.409335  5.236332e-03\n",
            "18  4     transit                   -0.623942  4.663652e-06\n",
            "19  4  workplaces                   -0.280985  6.152183e-02\n",
            "現在進入到這個國家: KR\n",
            "    n       place  Coefficient_of_Correlation       p-value\n",
            "0   1      retail                   -0.609538  2.354825e-07\n",
            "1   1     grocery                   -0.459647  2.202638e-04\n",
            "2   1        park                   -0.349761  6.156066e-03\n",
            "3   1     transit                   -0.576510  1.431126e-06\n",
            "4   1  workplaces                   -0.178784  1.717003e-01\n",
            "5   2      retail                   -0.236587  7.916625e-02\n",
            "6   2     grocery                   -0.281140  3.582190e-02\n",
            "7   2        park                   -0.433665  8.411226e-04\n",
            "8   2     transit                   -0.463560  3.205711e-04\n",
            "9   2  workplaces                    0.120565  3.760980e-01\n",
            "10  3      retail                   -0.592556  7.627410e-10\n",
            "11  3     grocery                   -0.047765  6.548316e-01\n",
            "12  3        park                   -0.569488  4.700357e-09\n",
            "13  3     transit                   -0.658721  1.700267e-12\n",
            "14  3  workplaces                   -0.511165  2.630481e-07\n",
            "15  4      retail                   -0.160989  1.060012e-01\n",
            "16  4     grocery                   -0.020179  8.404608e-01\n",
            "17  4        park                   -0.038458  7.011552e-01\n",
            "18  4     transit                   -0.198349  4.566932e-02\n",
            "19  4  workplaces                   -0.050887  6.115035e-01\n",
            "20  5      retail                   -0.514533  2.214253e-05\n",
            "21  5     grocery                   -0.378585  2.625272e-03\n",
            "22  5        park                   -0.259935  4.306518e-02\n",
            "23  5     transit                   -0.490490  5.998899e-05\n",
            "24  5  workplaces                    0.121154  3.523192e-01\n",
            "現在進入到這個國家: JP\n"
          ]
        },
        {
          "output_type": "stream",
          "name": "stderr",
          "text": [
            "/usr/local/lib/python3.7/dist-packages/ipykernel_launcher.py:39: SettingWithCopyWarning: \n",
            "A value is trying to be set on a copy of a slice from a DataFrame\n",
            "\n",
            "See the caveats in the documentation: https://pandas.pydata.org/pandas-docs/stable/user_guide/indexing.html#returning-a-view-versus-a-copy\n",
            "/usr/local/lib/python3.7/dist-packages/ipykernel_launcher.py:39: SettingWithCopyWarning: \n",
            "A value is trying to be set on a copy of a slice from a DataFrame\n",
            "\n",
            "See the caveats in the documentation: https://pandas.pydata.org/pandas-docs/stable/user_guide/indexing.html#returning-a-view-versus-a-copy\n",
            "/usr/local/lib/python3.7/dist-packages/ipykernel_launcher.py:39: SettingWithCopyWarning: \n",
            "A value is trying to be set on a copy of a slice from a DataFrame\n",
            "\n",
            "See the caveats in the documentation: https://pandas.pydata.org/pandas-docs/stable/user_guide/indexing.html#returning-a-view-versus-a-copy\n",
            "/usr/local/lib/python3.7/dist-packages/ipykernel_launcher.py:39: SettingWithCopyWarning: \n",
            "A value is trying to be set on a copy of a slice from a DataFrame\n",
            "\n",
            "See the caveats in the documentation: https://pandas.pydata.org/pandas-docs/stable/user_guide/indexing.html#returning-a-view-versus-a-copy\n"
          ]
        },
        {
          "output_type": "stream",
          "name": "stdout",
          "text": [
            "    n       place  Coefficient_of_Correlation       p-value\n",
            "0   1      retail                   -0.196816  9.750611e-02\n",
            "1   1     grocery                    0.087514  4.647864e-01\n",
            "2   1        park                    0.051686  6.663369e-01\n",
            "3   1     transit                   -0.163793  1.691895e-01\n",
            "4   1  workplaces                   -0.012658  9.159568e-01\n",
            "5   2      retail                    0.029304  7.938261e-01\n",
            "6   2     grocery                    0.405463  1.575054e-04\n",
            "7   2        park                    0.229426  3.813559e-02\n",
            "8   2     transit                   -0.202663  6.784833e-02\n",
            "9   2  workplaces                   -0.129045  2.479069e-01\n",
            "10  3      retail                   -0.367415  1.466262e-05\n",
            "11  3     grocery                   -0.223619  9.952471e-03\n",
            "12  3        park                   -0.499293  1.101367e-09\n",
            "13  3     transit                   -0.450105  6.135471e-08\n",
            "14  3  workplaces                   -0.139035  1.118516e-01\n",
            "15  4      retail                   -0.322595  6.236761e-04\n",
            "16  4     grocery                   -0.023897  8.051756e-01\n",
            "17  4        park                   -0.036068  7.096426e-01\n",
            "18  4     transit                   -0.326218  5.366722e-04\n",
            "19  4  workplaces                   -0.226232  1.800791e-02\n",
            "20  5      retail                   -0.391936  2.480094e-04\n",
            "21  5     grocery                   -0.053814  6.289668e-01\n",
            "22  5        park                   -0.519857  4.740632e-07\n",
            "23  5     transit                   -0.587633  5.214387e-09\n",
            "24  5  workplaces                   -0.193965  7.891275e-02\n",
            "25  6      retail                   -0.384459  1.108092e-03\n",
            "26  6     grocery                    0.179713  1.395155e-01\n",
            "27  6        park                   -0.057669  6.378743e-01\n",
            "28  6     transit                   -0.438720  1.627377e-04\n",
            "29  6  workplaces                   -0.106440  3.840386e-01\n",
            "現在進入到這個國家: VN\n"
          ]
        },
        {
          "output_type": "stream",
          "name": "stderr",
          "text": [
            "/usr/local/lib/python3.7/dist-packages/ipykernel_launcher.py:39: SettingWithCopyWarning: \n",
            "A value is trying to be set on a copy of a slice from a DataFrame\n",
            "\n",
            "See the caveats in the documentation: https://pandas.pydata.org/pandas-docs/stable/user_guide/indexing.html#returning-a-view-versus-a-copy\n"
          ]
        },
        {
          "output_type": "stream",
          "name": "stdout",
          "text": [
            "    n       place  Coefficient_of_Correlation       p-value\n",
            "0   1      retail                   -0.781844  1.001111e-24\n",
            "1   1     grocery                   -0.828625  5.449543e-30\n",
            "2   1        park                   -0.794696  4.917356e-26\n",
            "3   1     transit                   -0.822418  3.327005e-29\n",
            "4   1  workplaces                   -0.819996  6.273325e-28\n",
            "5   2      retail                    0.248234  1.188136e-02\n",
            "6   2     grocery                    0.295353  2.580880e-03\n",
            "7   2        park                    0.045449  6.501266e-01\n",
            "8   2     transit                    0.295674  2.551863e-03\n",
            "9   2  workplaces                  -99.000000 -9.900000e+01\n",
            "10  3      retail                   -0.293159  6.637628e-02\n",
            "11  3     grocery                    0.079536  6.256548e-01\n",
            "12  3        park                    0.496310  1.125410e-03\n",
            "13  3     transit                   -0.478239  1.800860e-03\n",
            "14  3  workplaces                  -99.000000 -9.900000e+01\n",
            "現在進入到這個國家: TH\n",
            "    n       place  Coefficient_of_Correlation       p-value\n",
            "0   1      retail                   -0.129601  2.849291e-01\n",
            "1   1     grocery                   -0.098614  4.166838e-01\n",
            "2   1        park                   -0.259550  3.002297e-02\n",
            "3   1     transit                   -0.241075  4.438667e-02\n",
            "4   1  workplaces                    0.047929  6.935728e-01\n",
            "5   2      retail                   -0.171047  1.631252e-01\n",
            "6   2     grocery                    0.085786  4.866930e-01\n",
            "7   2        park                   -0.373624  1.698988e-03\n",
            "8   2     transit                   -0.428400  2.678360e-04\n",
            "9   2  workplaces                    0.149402  2.239862e-01\n",
            "10  3      retail                   -0.778364  6.527032e-43\n",
            "11  3     grocery                   -0.680119  3.475683e-29\n",
            "12  3        park                   -0.658602  7.179958e-27\n",
            "13  3     transit                   -0.781250  2.026593e-43\n",
            "14  3  workplaces                   -0.412197  8.206192e-10\n",
            "15  4      retail                   -0.095793  4.168602e-01\n",
            "16  4     grocery                    0.249024  3.239169e-02\n",
            "17  4        park                    0.436926  9.936731e-05\n",
            "18  4     transit                    0.022793  8.471499e-01\n",
            "19  4  workplaces                    0.109219  3.542812e-01\n"
          ]
        },
        {
          "output_type": "stream",
          "name": "stderr",
          "text": [
            "/usr/local/lib/python3.7/dist-packages/ipykernel_launcher.py:39: SettingWithCopyWarning: \n",
            "A value is trying to be set on a copy of a slice from a DataFrame\n",
            "\n",
            "See the caveats in the documentation: https://pandas.pydata.org/pandas-docs/stable/user_guide/indexing.html#returning-a-view-versus-a-copy\n"
          ]
        },
        {
          "output_type": "stream",
          "name": "stdout",
          "text": [
            "現在進入到這個國家: ZA\n",
            "    n       place  Coefficient_of_Correlation       p-value\n",
            "0   1      retail                    0.327594  8.057315e-06\n",
            "1   1     grocery                    0.325563  9.234388e-06\n",
            "2   1        park                    0.287483  9.985647e-05\n",
            "3   1     transit                    0.192514  1.003868e-02\n",
            "4   1  workplaces                    0.273961  2.152632e-04\n",
            "5   2      retail                   -0.392979  9.692559e-08\n",
            "6   2     grocery                   -0.244401  1.233337e-03\n",
            "7   2        park                    0.424743  6.353616e-09\n",
            "8   2     transit                   -0.368218  6.707098e-07\n",
            "9   2  workplaces                   -0.488608  1.046686e-11\n",
            "10  3      retail                   -0.411533  1.881613e-09\n",
            "11  3     grocery                   -0.092192  1.975786e-01\n",
            "12  3        park                    0.020975  7.698609e-01\n",
            "13  3     transit                   -0.500184  7.227116e-14\n",
            "14  3  workplaces                   -0.256028  2.819193e-04\n",
            "15  4      retail                    0.245864  4.488036e-03\n",
            "16  4     grocery                    0.261908  2.416459e-03\n",
            "17  4        park                    0.132183  1.308252e-01\n",
            "18  4     transit                   -0.161634  6.408770e-02\n",
            "19  4  workplaces                   -0.402101  1.760400e-06\n",
            "現在進入到這個國家: EG\n"
          ]
        },
        {
          "output_type": "stream",
          "name": "stderr",
          "text": [
            "/usr/local/lib/python3.7/dist-packages/ipykernel_launcher.py:39: SettingWithCopyWarning: \n",
            "A value is trying to be set on a copy of a slice from a DataFrame\n",
            "\n",
            "See the caveats in the documentation: https://pandas.pydata.org/pandas-docs/stable/user_guide/indexing.html#returning-a-view-versus-a-copy\n",
            "/usr/local/lib/python3.7/dist-packages/ipykernel_launcher.py:39: SettingWithCopyWarning: \n",
            "A value is trying to be set on a copy of a slice from a DataFrame\n",
            "\n",
            "See the caveats in the documentation: https://pandas.pydata.org/pandas-docs/stable/user_guide/indexing.html#returning-a-view-versus-a-copy\n"
          ]
        },
        {
          "output_type": "stream",
          "name": "stdout",
          "text": [
            "    n       place  Coefficient_of_Correlation       p-value\n",
            "0   1      retail                   -0.255425  3.621851e-04\n",
            "1   1     grocery                   -0.124632  8.582416e-02\n",
            "2   1        park                   -0.268337  1.745805e-04\n",
            "3   1     transit                   -0.218392  2.404156e-03\n",
            "4   1  workplaces                    0.033311  6.473290e-01\n",
            "5   2      retail                   -0.272612  2.704367e-03\n",
            "6   2     grocery                   -0.274016  2.565182e-03\n",
            "7   2        park                   -0.168682  6.667658e-02\n",
            "8   2     transit                   -0.357501  6.567203e-05\n",
            "9   2  workplaces                   -0.244685  7.320027e-03\n",
            "10  3      retail                   -0.547867  7.356643e-15\n",
            "11  3     grocery                   -0.444817  9.758109e-10\n",
            "12  3        park                   -0.537598  2.870231e-14\n",
            "13  3     transit                   -0.394638  8.465186e-08\n",
            "14  3  workplaces                   -0.018181  8.128770e-01\n",
            "15  4      retail                    0.225980  5.920270e-03\n",
            "16  4     grocery                    0.311524  1.226317e-04\n",
            "17  4        park                   -0.185716  2.431621e-02\n",
            "18  4     transit                    0.517468  1.930714e-11\n",
            "19  4  workplaces                    0.470044  1.893762e-09\n",
            "20  5      retail                    0.186637  1.218560e-01\n",
            "21  5     grocery                   -0.004749  9.688793e-01\n",
            "22  5        park                   -0.214965  7.392203e-02\n",
            "23  5     transit                   -0.292789  1.390517e-02\n",
            "24  5  workplaces                   -0.474642  3.305950e-05\n",
            "現在進入到這個國家: MA\n",
            "    n       place  Coefficient_of_Correlation       p-value\n",
            "0   1      retail                    0.179101  7.628068e-04\n",
            "1   1     grocery                    0.018864  7.250835e-01\n",
            "2   1        park                   -0.041732  4.364064e-01\n",
            "3   1     transit                    0.248745  2.462590e-06\n",
            "4   1  workplaces                    0.150906  4.664860e-03\n",
            "5   2      retail                    0.021367  7.680377e-01\n",
            "6   2     grocery                    0.191079  7.770351e-03\n",
            "7   2        park                    0.796238  1.484085e-43\n",
            "8   2     transit                    0.110087  1.274908e-01\n",
            "9   2  workplaces                   -0.574609  2.378599e-18\n",
            "10  3      retail                   -0.646480  2.153280e-13\n",
            "11  3     grocery                   -0.361748  1.871242e-04\n",
            "12  3        park                   -0.518016  2.460433e-08\n",
            "13  3     transit                   -0.768803  3.937294e-21\n",
            "14  3  workplaces                   -0.286384  3.522088e-03\n",
            "現在進入到這個國家: KE\n"
          ]
        },
        {
          "output_type": "stream",
          "name": "stderr",
          "text": [
            "/usr/local/lib/python3.7/dist-packages/ipykernel_launcher.py:39: SettingWithCopyWarning: \n",
            "A value is trying to be set on a copy of a slice from a DataFrame\n",
            "\n",
            "See the caveats in the documentation: https://pandas.pydata.org/pandas-docs/stable/user_guide/indexing.html#returning-a-view-versus-a-copy\n",
            "/usr/local/lib/python3.7/dist-packages/ipykernel_launcher.py:39: SettingWithCopyWarning: \n",
            "A value is trying to be set on a copy of a slice from a DataFrame\n",
            "\n",
            "See the caveats in the documentation: https://pandas.pydata.org/pandas-docs/stable/user_guide/indexing.html#returning-a-view-versus-a-copy\n"
          ]
        },
        {
          "output_type": "stream",
          "name": "stdout",
          "text": [
            "    n       place  Coefficient_of_Correlation       p-value\n",
            "0   1      retail                    0.429770  2.438078e-07\n",
            "1   1     grocery                    0.425256  3.354718e-07\n",
            "2   1        park                    0.302413  4.033476e-04\n",
            "3   1     transit                    0.438189  1.327711e-07\n",
            "4   1  workplaces                    0.166722  5.510666e-02\n",
            "5   2      retail                    0.198380  2.596078e-02\n",
            "6   2     grocery                    0.231274  9.171289e-03\n",
            "7   2        park                    0.065784  4.642578e-01\n",
            "8   2     transit                    0.269645  2.262941e-03\n",
            "9   2  workplaces                    0.294273  8.238100e-04\n",
            "10  3      retail                   -0.172344  6.920596e-02\n",
            "11  3     grocery                    0.155118  1.024482e-01\n",
            "12  3        park                   -0.265706  4.632961e-03\n",
            "13  3     transit                   -0.008501  9.291152e-01\n",
            "14  3  workplaces                   -0.130746  1.694211e-01\n",
            "15  4      retail                   -0.470159  2.755011e-11\n",
            "16  4     grocery                   -0.161804  3.000511e-02\n",
            "17  4        park                   -0.312810  1.908478e-05\n",
            "18  4     transit                   -0.218210  3.253133e-03\n",
            "19  4  workplaces                   -0.228158  2.066704e-03\n",
            "20  5      retail                   -0.479277  1.763902e-07\n",
            "21  5     grocery                   -0.114655  2.396122e-01\n",
            "22  5        park                   -0.311039  1.110595e-03\n",
            "23  5     transit                   -0.497256  5.080452e-08\n",
            "24  5  workplaces                   -0.754953  5.873359e-21\n",
            "現在進入到這個國家: NZ\n",
            "   n       place  Coefficient_of_Correlation       p-value\n",
            "0  1      retail                   -0.734794  5.162210e-11\n",
            "1  1     grocery                   -0.502956  5.728371e-05\n",
            "2  1        park                   -0.294110  2.503046e-02\n",
            "3  1     transit                   -0.480572  1.344966e-04\n",
            "4  1  workplaces                    0.013166  9.218613e-01\n",
            "現在進入到這個國家: AU\n",
            "    n       place  Coefficient_of_Correlation       p-value\n",
            "0   1      retail                    0.147794  6.558882e-02\n",
            "1   1     grocery                    0.310979  7.772229e-05\n",
            "2   1        park                    0.477558  2.906311e-10\n",
            "3   1     transit                    0.002624  9.740675e-01\n",
            "4   1  workplaces                   -0.103944  1.965939e-01\n",
            "5   2      retail                   -0.419188  1.334989e-04\n",
            "6   2     grocery                   -0.092390  4.211003e-01\n",
            "7   2        park                   -0.011556  9.200130e-01\n",
            "8   2     transit                   -0.622082  1.207000e-09\n",
            "9   2  workplaces                   -0.250009  2.727533e-02\n",
            "10  3      retail                   -0.294755  1.829809e-01\n",
            "11  3     grocery                   -0.151057  5.022018e-01\n",
            "12  3        park                    0.001334  9.952982e-01\n",
            "13  3     transit                    0.306004  1.660532e-01\n",
            "14  3  workplaces                   -0.141750  5.291876e-01\n"
          ]
        },
        {
          "output_type": "stream",
          "name": "stderr",
          "text": [
            "/usr/local/lib/python3.7/dist-packages/ipykernel_launcher.py:39: SettingWithCopyWarning: \n",
            "A value is trying to be set on a copy of a slice from a DataFrame\n",
            "\n",
            "See the caveats in the documentation: https://pandas.pydata.org/pandas-docs/stable/user_guide/indexing.html#returning-a-view-versus-a-copy\n"
          ]
        }
      ]
    },
    {
      "cell_type": "code",
      "source": [
        ""
      ],
      "metadata": {
        "id": "d6fyLcAlCuoY"
      },
      "execution_count": null,
      "outputs": []
    }
  ]
}